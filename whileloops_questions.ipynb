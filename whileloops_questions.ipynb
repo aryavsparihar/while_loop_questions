{
 "cells": [
  {
   "cell_type": "code",
   "execution_count": 5,
   "id": "f63e590b",
   "metadata": {},
   "outputs": [
    {
     "name": "stdout",
     "output_type": "stream",
     "text": [
      "10 11 12 13 14 15 "
     ]
    }
   ],
   "source": [
    "# print numbers from 10 to 15\n",
    "# write a program to print numbers from 10 to 15 using while loop\n",
    "# expected output : 10 11 12 13 14 15\n",
    "\n",
    "number = 10\n",
    "while number<=15:\n",
    "    print(number, end=\" \")\n",
    "    number+=1\n",
    "    "
   ]
  },
  {
   "cell_type": "code",
   "execution_count": 14,
   "id": "a4a0ef8e",
   "metadata": {},
   "outputs": [
    {
     "name": "stdout",
     "output_type": "stream",
     "text": [
      "1 8 27 64 125 "
     ]
    }
   ],
   "source": [
    "# print cubes of numbers from 1 to 5\n",
    "# write a program to print the cubes of numbers from 1 to 5\n",
    "# expected output : 1 8 27 64 125\n",
    "\n",
    "number=1\n",
    "while number<=5:\n",
    "    print(number**3, end=\" \")\n",
    "    number+=1\n",
    "    "
   ]
  },
  {
   "cell_type": "code",
   "execution_count": 22,
   "id": "1eb74820",
   "metadata": {},
   "outputs": [
    {
     "name": "stdout",
     "output_type": "stream",
     "text": [
      "1 3 5 7 9 "
     ]
    }
   ],
   "source": [
    "# print odd numbers from 1 to 10\n",
    "# write a program to print all odd numbers from 1 to 10\n",
    "# expected output : 1 3 5 7 9\n",
    "\n",
    "number=1\n",
    "while number <= 10:\n",
    "    if number %2 != 0:\n",
    "        print(number, end=\" \")\n",
    "    number+=1\n",
    "        "
   ]
  },
  {
   "cell_type": "code",
   "execution_count": 24,
   "id": "c4a50299",
   "metadata": {},
   "outputs": [
    {
     "name": "stdout",
     "output_type": "stream",
     "text": [
      "120\n"
     ]
    }
   ],
   "source": [
    "# calculate product of numbers from 1 to 5\n",
    "# write a program to calculate numbers from 1 to 5\n",
    "# expected output = 120\n",
    "\n",
    "product=1\n",
    "number=1\n",
    "while number<=5:\n",
    "    product*=number\n",
    "    number+=1\n",
    "print(product)"
   ]
  },
  {
   "cell_type": "code",
   "execution_count": 25,
   "id": "d2f4ecb7",
   "metadata": {},
   "outputs": [
    {
     "name": "stdout",
     "output_type": "stream",
     "text": [
      "o l l e H  d l r o W  "
     ]
    }
   ],
   "source": [
    "# reverse each word in a sentence\n",
    "# question : write a program to reverse each word in a sentence \" hello world \" using a while loop\n",
    "# expected output : olleH dlroW\n",
    "\n",
    "sentence = \"Hello World\"\n",
    "words = sentence.split()\n",
    "\n",
    "for word in words:\n",
    "    i=len(word)-1\n",
    "    while i>=0:\n",
    "        print(word[i], end=' ')\n",
    "        i-=1\n",
    "    print(end=' ')"
   ]
  },
  {
   "cell_type": "code",
   "execution_count": 27,
   "id": "385ffe00",
   "metadata": {},
   "outputs": [
    {
     "name": "stdout",
     "output_type": "stream",
     "text": [
      "number is consonants is 5\n"
     ]
    }
   ],
   "source": [
    "# count consonants in a string\n",
    "# question : write a program to count the number of consonants in the word \" learning \" \n",
    "# expected output = 5\n",
    "\n",
    "count=0\n",
    "vowels=\"aeiou\"\n",
    "word= \"learning\"\n",
    "index = 0\n",
    "\n",
    "while index < len(word):\n",
    "    if word[index].lower() not in vowels and word[index].isalpha():\n",
    "        count+=1\n",
    "    index+=1\n",
    "\n",
    "print(f'number is consonants is {count}')"
   ]
  },
  {
   "cell_type": "code",
   "execution_count": 28,
   "id": "7d84e91b",
   "metadata": {},
   "outputs": [
    {
     "name": "stdout",
     "output_type": "stream",
     "text": [
      "3 6 9 12 15 "
     ]
    }
   ],
   "source": [
    "# print the first 5 multiples of 3\n",
    "# question : write a program to print the first 5 multiples of 3\n",
    "# expected output : 3 6 9 12 15\n",
    "\n",
    "multiple=3\n",
    "count=1\n",
    "\n",
    "while count<=5: \n",
    "    print(multiple, end=' ')\n",
    "    multiple+=3\n",
    "    count+=1"
   ]
  },
  {
   "cell_type": "code",
   "execution_count": null,
   "id": "db9f1cc2",
   "metadata": {},
   "outputs": [
    {
     "name": "stdout",
     "output_type": "stream",
     "text": [
      "8\n"
     ]
    }
   ],
   "source": [
    "# calculate power of a number\n",
    "\n",
    "base = int(input(\"Enter base number: \"))\n",
    "exponent = int(input(\"Enter exponent number: \"))\n",
    "\n",
    "count = 0\n",
    "\n",
    "while count <= exponent:\n",
    "    result = base ** exponent\n",
    "    count += 1\n",
    "print(result)"
   ]
  },
  {
   "cell_type": "code",
   "execution_count": 33,
   "id": "f2759f63",
   "metadata": {},
   "outputs": [
    {
     "name": "stdout",
     "output_type": "stream",
     "text": [
      "16 is a perfect square\n"
     ]
    }
   ],
   "source": [
    "# check if a number is a perfect square or not\n",
    "# write a program to check if a given number, lets say 16, if a perfect square or not\n",
    "# expected output : 16 is a perfect square\n",
    "\n",
    "num=int(input('enter a number to check : '))\n",
    "i = 1\n",
    "is_perfect_square = False\n",
    "\n",
    "while i*i<=num:\n",
    "    if i*i==num:\n",
    "        is_perfect_square=True\n",
    "        break\n",
    "    i+=1\n",
    "\n",
    "if is_perfect_square:\n",
    "    print(f'{num} is a perfect square')\n",
    "else:\n",
    "    print(f'{num} is not a perfect square')"
   ]
  },
  {
   "cell_type": "code",
   "execution_count": 35,
   "id": "34fce39a",
   "metadata": {},
   "outputs": [
    {
     "name": "stdout",
     "output_type": "stream",
     "text": [
      "s=3\n"
     ]
    }
   ],
   "source": [
    "# count occurences of a specific character in a string\n",
    "# question : write a program to count occurences of the character \"s\" in the string \"success\"\n",
    "# expected output : 3\n",
    "\n",
    "string=input(\"enter a string: \")\n",
    "char_to_count=input(\"enter a character to count\")\n",
    "count=0\n",
    "index=0\n",
    "\n",
    "while index < len(string):\n",
    "    if string[index]==char_to_count:\n",
    "        count+=1\n",
    "    index+=1\n",
    "\n",
    "print(f'{char_to_count}={count}')"
   ]
  }
 ],
 "metadata": {
  "kernelspec": {
   "display_name": "Python 3",
   "language": "python",
   "name": "python3"
  },
  "language_info": {
   "codemirror_mode": {
    "name": "ipython",
    "version": 3
   },
   "file_extension": ".py",
   "mimetype": "text/x-python",
   "name": "python",
   "nbconvert_exporter": "python",
   "pygments_lexer": "ipython3",
   "version": "3.13.4"
  }
 },
 "nbformat": 4,
 "nbformat_minor": 5
}
